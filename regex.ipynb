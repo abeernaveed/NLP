{
 "cells": [
  {
   "cell_type": "code",
   "execution_count": 239,
   "id": "aeed86e9-c84b-4d9c-9790-c242bf785367",
   "metadata": {},
   "outputs": [],
   "source": [
    "#Customer Service Chatbot\n",
    "import re"
   ]
  },
  {
   "cell_type": "code",
   "execution_count": 240,
   "id": "a1802462-581a-42e3-8709-d2b4471edc11",
   "metadata": {},
   "outputs": [],
   "source": [
    "chat1 = 'codebasics: you ask lot of questions, 4444678912 😠  1235678912 email:  abc@xyz.com  order no 1212345654'\n",
    "chat2 = 'codebasics: here it is: 1234567898 or  (123)-567-8912  abc33QQ@xyz.com   order # 1212345654'\n",
    "chat3 = 'codebasics: yes, phone: 1235678912 email: abc@xyz.com   order 1212345654'"
   ]
  },
  {
   "cell_type": "code",
   "execution_count": 241,
   "id": "e55f8103-8aae-4062-8922-86968cf2569b",
   "metadata": {},
   "outputs": [],
   "source": [
    "# pattern = r'\\d{10}'\n",
    "# matches = re.findall(pattern,chat1)\n",
    "# matches\n",
    "\n",
    "pattern = r'\\d{10} | \\(\\d{3}\\)-\\d{3}-\\d{4} | [a-zA-Z0-9_]*@[a-zA-Z0-9]*\\.[a-zA-Z0-9]*'\n",
    "matches = re.findall(pattern,chat3)\n",
    "# matches"
   ]
  },
  {
   "cell_type": "code",
   "execution_count": 242,
   "id": "51f42345-8bcd-44b3-8c97-7c02e12472d4",
   "metadata": {},
   "outputs": [],
   "source": [
    "pattern = r'order[^\\d]*(\\d*)'\n",
    "matches = re.findall(pattern,chat1)\n",
    "# matches"
   ]
  },
  {
   "cell_type": "code",
   "execution_count": 243,
   "id": "7d597e36-c7b8-46f8-8d9a-3445885f8eed",
   "metadata": {},
   "outputs": [],
   "source": [
    "#Information Extration\n",
    "text='''\n",
    "Born\tElon Reeve Musk\n",
    "June 28, 1971 (age 50)\n",
    "Pretoria, Transvaal, South Africa\n",
    "Citizenship\t\n",
    "South Africa (1971–present)\n",
    "Canada (1971–present)\n",
    "United States (2002–present)\n",
    "Education\tUniversity of Pennsylvania (BS, BA)\n",
    "Title\t\n",
    "Founder, CEO and Chief Engineer of SpaceX\n",
    "CEO and product architect of Tesla, Inc.\n",
    "Founder of The Boring Company and X.com (now part of PayPal)\n",
    "Co-founder of Neuralink, OpenAI, and Zip2\n",
    "Spouse(s)\t\n",
    "Justine Wilson\n",
    "​\n",
    "​(m. 2000; div. 2008)​\n",
    "Talulah Riley\n",
    "​\n",
    "​(m. 2010; div. 2012)​\n",
    "​\n",
    "​(m. 2013; div. 2016)\n",
    "'''"
   ]
  },
  {
   "cell_type": "code",
   "execution_count": 244,
   "id": "2c169641-b869-459f-a7b9-02a56d586c28",
   "metadata": {},
   "outputs": [
    {
     "data": {
      "text/plain": [
       "['South Africa (1971–present)']"
      ]
     },
     "execution_count": 244,
     "metadata": {},
     "output_type": "execute_result"
    }
   ],
   "source": [
    "# Age\n",
    "# pattern = r'age\\s(\\d+)' \n",
    "# Name\n",
    "# pattern = r'Born\\s([a-zA-Z]*\\s[a-zA-z]*\\s[a-zA-Z]*)'\n",
    "# Birth Place\n",
    "# Born.*\\n.*\\n(.*)\n",
    "# pattern  = 'age.*\\n(.*)'\n",
    "#Citizen\n",
    "pattern = r'Born.*\\n.*\\n.*\\nCitizenship.\\n(.*)'\n",
    "\n",
    "match = re.findall(pattern,text)\n",
    "match"
   ]
  },
  {
   "cell_type": "code",
   "execution_count": 245,
   "id": "a1e3c187-57f4-4a20-89f4-bf10f8300410",
   "metadata": {},
   "outputs": [],
   "source": [
    "def get_pattern_match(pattern, text):\n",
    "    matches = re.findall(pattern, text)\n",
    "    if matches:\n",
    "        return matches[0]"
   ]
  },
  {
   "cell_type": "code",
   "execution_count": 246,
   "id": "8cf89691-afa2-4803-b992-9cc364771632",
   "metadata": {},
   "outputs": [
    {
     "data": {
      "text/plain": [
       "'50'"
      ]
     },
     "execution_count": 246,
     "metadata": {},
     "output_type": "execute_result"
    }
   ],
   "source": [
    "get_pattern_match(r'age (\\d+)', text)\n"
   ]
  },
  {
   "cell_type": "code",
   "execution_count": 247,
   "id": "ea456907-ba91-4c4d-849e-1ab209564f21",
   "metadata": {},
   "outputs": [
    {
     "data": {
      "text/plain": [
       "'Elon Reeve Musk'"
      ]
     },
     "execution_count": 247,
     "metadata": {},
     "output_type": "execute_result"
    }
   ],
   "source": [
    "get_pattern_match(r'Born(.*)\\n', text).strip()\n"
   ]
  },
  {
   "cell_type": "code",
   "execution_count": 248,
   "id": "8275b542-202c-49d5-adf7-b46f0e4b1948",
   "metadata": {},
   "outputs": [
    {
     "data": {
      "text/plain": [
       "'June 28, 1971'"
      ]
     },
     "execution_count": 248,
     "metadata": {},
     "output_type": "execute_result"
    }
   ],
   "source": [
    "get_pattern_match(r'Born.*\\n(.*)\\(age', text).strip()\n"
   ]
  },
  {
   "cell_type": "code",
   "execution_count": 249,
   "id": "6ca35d81-3889-48fa-88e7-5494bceae4c8",
   "metadata": {},
   "outputs": [
    {
     "data": {
      "text/plain": [
       "'Pretoria, Transvaal, South Africa'"
      ]
     },
     "execution_count": 249,
     "metadata": {},
     "output_type": "execute_result"
    }
   ],
   "source": [
    "get_pattern_match(r'\\(age.*\\n(.*)', text)\n"
   ]
  },
  {
   "cell_type": "code",
   "execution_count": 250,
   "id": "bbbd6a70-0908-4cf0-9c82-1064001c6311",
   "metadata": {},
   "outputs": [],
   "source": [
    "#Combine Information Extraction in single file using function\n",
    "def extract_personal_information(text):\n",
    "    age = get_pattern_match(r'age (\\d+)', text)\n",
    "    full_name = get_pattern_match(r'Born(.*)\\n', text)\n",
    "    birth_date = get_pattern_match(r'Born.*\\n(.*)\\(age', text)\n",
    "    birth_place = get_pattern_match(r'\\(age.*\\n(.*)', text)\n",
    "    return {\n",
    "        'age': int(age),\n",
    "        'name': full_name.strip(),\n",
    "        'birth_date': birth_date.strip(),\n",
    "        'birth_place': birth_place.strip()\n",
    "    }"
   ]
  },
  {
   "cell_type": "code",
   "execution_count": 251,
   "id": "06e0436d-b52c-4d65-8912-2c0e7330120a",
   "metadata": {},
   "outputs": [
    {
     "data": {
      "text/plain": [
       "{'age': 50,\n",
       " 'name': 'Elon Reeve Musk',\n",
       " 'birth_date': 'June 28, 1971',\n",
       " 'birth_place': 'Pretoria, Transvaal, South Africa'}"
      ]
     },
     "execution_count": 251,
     "metadata": {},
     "output_type": "execute_result"
    }
   ],
   "source": [
    "extract_personal_information(text)\n"
   ]
  }
 ],
 "metadata": {
  "kernelspec": {
   "display_name": "Python 3 (ipykernel)",
   "language": "python",
   "name": "python3"
  },
  "language_info": {
   "codemirror_mode": {
    "name": "ipython",
    "version": 3
   },
   "file_extension": ".py",
   "mimetype": "text/x-python",
   "name": "python",
   "nbconvert_exporter": "python",
   "pygments_lexer": "ipython3",
   "version": "3.12.6"
  }
 },
 "nbformat": 4,
 "nbformat_minor": 5
}
