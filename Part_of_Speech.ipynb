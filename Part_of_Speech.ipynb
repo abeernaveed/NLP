{
 "cells": [
  {
   "cell_type": "code",
   "execution_count": 6,
   "id": "79bf1cbe-9974-417b-858d-6831738b2fed",
   "metadata": {},
   "outputs": [],
   "source": [
    "import spacy\n"
   ]
  },
  {
   "cell_type": "code",
   "execution_count": 7,
   "id": "d9777fcc-5c3c-4481-b367-89d7048c2919",
   "metadata": {},
   "outputs": [
    {
     "name": "stdout",
     "output_type": "stream",
     "text": [
      "Elon  |  PROPN  |  proper noun\n",
      "flew  |  VERB  |  verb\n",
      "to  |  ADP  |  adposition\n",
      "mars  |  NOUN  |  noun\n",
      "yesterday  |  NOUN  |  noun\n",
      ".  |  PUNCT  |  punctuation\n",
      "He  |  PRON  |  pronoun\n",
      "carried  |  VERB  |  verb\n",
      "biryani  |  ADJ  |  adjective\n",
      "masala  |  NOUN  |  noun\n",
      "with  |  ADP  |  adposition\n",
      "him  |  PRON  |  pronoun\n"
     ]
    }
   ],
   "source": [
    "nlp = spacy.load(\"en_core_web_sm\")\n",
    "doc = nlp(\"Elon flew to mars yesterday. He carried biryani masala with him\")\n",
    "\n",
    "for token in doc:\n",
    "    print(token,\" | \", token.pos_, \" | \", spacy.explain(token.pos_))"
   ]
  },
  {
   "cell_type": "code",
   "execution_count": 8,
   "id": "84e57a45-ac3e-4a12-a5f1-19f29b5d5fdb",
   "metadata": {},
   "outputs": [
    {
     "name": "stdout",
     "output_type": "stream",
     "text": [
      "Wow  |  INTJ  |  interjection\n",
      "!  |  PUNCT  |  punctuation\n",
      "Dr.  |  PROPN  |  proper noun\n",
      "Strange  |  PROPN  |  proper noun\n",
      "made  |  VERB  |  verb\n",
      "265  |  NUM  |  numeral\n",
      "million  |  NUM  |  numeral\n",
      "$  |  NUM  |  numeral\n",
      "on  |  ADP  |  adposition\n",
      "the  |  DET  |  determiner\n",
      "very  |  ADV  |  adverb\n",
      "first  |  ADJ  |  adjective\n",
      "day  |  NOUN  |  noun\n"
     ]
    }
   ],
   "source": [
    "doc = nlp(\"Wow! Dr. Strange made 265 million $ on the very first day\")\n",
    "\n",
    "for token in doc:\n",
    "    print(token,\" | \", token.pos_, \" | \", spacy.explain(token.pos_))"
   ]
  },
  {
   "cell_type": "code",
   "execution_count": 9,
   "id": "73ed492f-2cd9-41ae-9891-f7937b598a95",
   "metadata": {},
   "outputs": [
    {
     "name": "stdout",
     "output_type": "stream",
     "text": [
      "Wow  |  INTJ  |  interjection  |  UH  |  interjection\n",
      "!  |  PUNCT  |  punctuation  |  .  |  punctuation mark, sentence closer\n",
      "Dr.  |  PROPN  |  proper noun  |  NNP  |  noun, proper singular\n",
      "Strange  |  PROPN  |  proper noun  |  NNP  |  noun, proper singular\n",
      "made  |  VERB  |  verb  |  VBD  |  verb, past tense\n",
      "265  |  NUM  |  numeral  |  CD  |  cardinal number\n",
      "million  |  NUM  |  numeral  |  CD  |  cardinal number\n",
      "$  |  NUM  |  numeral  |  CD  |  cardinal number\n",
      "on  |  ADP  |  adposition  |  IN  |  conjunction, subordinating or preposition\n",
      "the  |  DET  |  determiner  |  DT  |  determiner\n",
      "very  |  ADV  |  adverb  |  RB  |  adverb\n",
      "first  |  ADJ  |  adjective  |  JJ  |  adjective (English), other noun-modifier (Chinese)\n",
      "day  |  NOUN  |  noun  |  NN  |  noun, singular or mass\n"
     ]
    }
   ],
   "source": [
    "doc = nlp(\"Wow! Dr. Strange made 265 million $ on the very first day\")\n",
    "\n",
    "for token in doc:\n",
    "    print(token,\" | \", token.pos_, \" | \", spacy.explain(token.pos_), \" | \", token.tag_, \" | \", spacy.explain(token.tag_))"
   ]
  },
  {
   "cell_type": "code",
   "execution_count": 10,
   "id": "078b011f-444f-4db1-8b2d-40b81c3c7170",
   "metadata": {},
   "outputs": [
    {
     "name": "stdout",
     "output_type": "stream",
     "text": [
      "quits | VBZ | verb, 3rd person singular present\n"
     ]
    }
   ],
   "source": [
    "doc = nlp(\"He quits the job\")\n",
    "\n",
    "print(doc[1].text, \"|\", doc[1].tag_, \"|\", spacy.explain(doc[1].tag_))"
   ]
  },
  {
   "cell_type": "code",
   "execution_count": 11,
   "id": "ac42d3f0-458b-4e92-b7a9-0d7a9a491f75",
   "metadata": {},
   "outputs": [
    {
     "name": "stdout",
     "output_type": "stream",
     "text": [
      "quit | VBD | verb, past tense\n"
     ]
    }
   ],
   "source": [
    "doc = nlp(\"he quit the job\")\n",
    "\n",
    "print(doc[1].text, \"|\", doc[1].tag_, \"|\", spacy.explain(doc[1].tag_))"
   ]
  },
  {
   "cell_type": "code",
   "execution_count": null,
   "id": "43a56a9a-0d1f-45e0-915e-27bff5e0344f",
   "metadata": {},
   "outputs": [],
   "source": [
    "#EXERCISE"
   ]
  },
  {
   "cell_type": "code",
   "execution_count": 14,
   "id": "dca60308-64f8-4b54-afb4-d0f84ee77564",
   "metadata": {},
   "outputs": [
    {
     "data": {
      "text/plain": [
       "['Inflation',\n",
       " 'April',\n",
       " 'climb',\n",
       " 'consumers',\n",
       " 'brink',\n",
       " 'expansion',\n",
       " 'Bureau',\n",
       " 'Labor',\n",
       " 'Statistics',\n",
       " 'Wednesday',\n",
       " 'consumer',\n",
       " 'price',\n",
       " 'index',\n",
       " 'measure',\n",
       " 'prices',\n",
       " 'goods',\n",
       " 'services',\n",
       " '%',\n",
       " 'year',\n",
       " 'Dow',\n",
       " 'Jones',\n",
       " 'estimate',\n",
       " '%',\n",
       " 'gain',\n",
       " 'ease',\n",
       " 'March',\n",
       " 'peak',\n",
       " 'level',\n",
       " 'summer',\n",
       " 'food',\n",
       " 'energy',\n",
       " 'prices',\n",
       " 'core',\n",
       " 'CPI',\n",
       " '%',\n",
       " 'expectations',\n",
       " '%',\n",
       " 'gain',\n",
       " 'hopes',\n",
       " 'inflation',\n",
       " 'March',\n",
       " 'month',\n",
       " 'month',\n",
       " 'gains',\n",
       " 'expectations',\n",
       " '%',\n",
       " 'headline',\n",
       " 'CPI',\n",
       " '%',\n",
       " 'estimate',\n",
       " '%',\n",
       " 'increase',\n",
       " 'core',\n",
       " 'outlook',\n",
       " '%',\n",
       " 'gain',\n",
       " 'price',\n",
       " 'gains',\n",
       " 'workers',\n",
       " 'ground',\n",
       " 'wages',\n",
       " 'inflation',\n",
       " '%',\n",
       " 'month',\n",
       " 'increase',\n",
       " '%',\n",
       " 'earnings',\n",
       " 'year',\n",
       " 'earnings',\n",
       " '%',\n",
       " 'earnings',\n",
       " '%',\n",
       " 'Inflation',\n",
       " 'threat',\n",
       " 'recovery',\n",
       " 'Covid',\n",
       " 'pandemic',\n",
       " 'economy',\n",
       " 'stage',\n",
       " 'year',\n",
       " 'growth',\n",
       " 'level',\n",
       " 'prices',\n",
       " 'pump',\n",
       " 'grocery',\n",
       " 'stores',\n",
       " 'problem',\n",
       " 'inflation',\n",
       " 'areas',\n",
       " 'housing',\n",
       " 'auto',\n",
       " 'sales',\n",
       " 'host',\n",
       " 'areas',\n",
       " 'Federal',\n",
       " 'Reserve',\n",
       " 'officials',\n",
       " 'problem',\n",
       " 'interest',\n",
       " 'rate',\n",
       " 'hikes',\n",
       " 'year',\n",
       " 'pledges',\n",
       " 'inflation',\n",
       " 'bank',\n",
       " '%',\n",
       " 'goal',\n",
       " 'Wednesday',\n",
       " 'data',\n",
       " 'Fed',\n",
       " 'job']"
      ]
     },
     "execution_count": 14,
     "metadata": {},
     "output_type": "execute_result"
    }
   ],
   "source": [
    "text_data='''\"Inflation rose again in April, continuing a climb that has pushed consumers to the brink and is threatening the economic expansion, the Bureau of Labor Statistics reported Wednesday.\n",
    "\n",
    "The consumer price index, a broad-based measure of prices for goods and services, increased 8.3% from a year ago, higher than the Dow Jones estimate for an 8.1% gain. That represented a slight ease from March’s peak but was still close to the highest level since the summer of 1982.\n",
    "\n",
    "Removing volatile food and energy prices, so-called core CPI still rose 6.2%, against expectations for a 6% gain, clouding hopes that inflation had peaked in March.\n",
    "\n",
    "The month-over-month gains also were higher than expectations — 0.3% on headline CPI versus the 0.2% estimate and a 0.6% increase for core, against the outlook for a 0.4% gain.\n",
    "\n",
    "The price gains also meant that workers continued to lose ground. Real wages adjusted for inflation decreased 0.1% on the month despite a nominal increase of 0.3% in average hourly earnings. Over the past year, real earnings have dropped 2.6% even though average hourly earnings are up 5.5%.\n",
    "\n",
    "Inflation has been the single biggest threat to a recovery that began early in the Covid pandemic and saw the economy in 2021 stage its biggest single-year growth level since 1984. Rising prices at the pump and in grocery stores have been one problem, but inflation has spread beyond those two areas into housing, auto sales and a host of other areas.\n",
    "\n",
    "Federal Reserve officials have responded to the problem with two interest rate hikes so far this year and pledges of more until inflation comes down to the central bank’s 2% goal. However, Wednesday’s data shows that the Fed has a big job ahead.\"'''\n",
    "doc=nlp(text_data)\n",
    "nouns = [token.text for token in doc if token.pos_ in ['NOUN', 'PROPN']]\n",
    "nouns"
   ]
  },
  {
   "cell_type": "code",
   "execution_count": 15,
   "id": "dc247009-f0a3-4489-884c-0d7187f27293",
   "metadata": {},
   "outputs": [
    {
     "data": {
      "text/plain": [
       "['8.3',\n",
       " '8.1',\n",
       " '1982',\n",
       " '6.2',\n",
       " '6',\n",
       " '0.3',\n",
       " '0.2',\n",
       " '0.6',\n",
       " '0.4',\n",
       " '0.1',\n",
       " '0.3',\n",
       " '2.6',\n",
       " '5.5',\n",
       " '2021',\n",
       " '1984',\n",
       " 'one',\n",
       " 'two',\n",
       " 'two',\n",
       " '2']"
      ]
     },
     "execution_count": 15,
     "metadata": {},
     "output_type": "execute_result"
    }
   ],
   "source": [
    "num=[token.text for token in doc if token.pos_ in ['NUM']]\n",
    "num"
   ]
  },
  {
   "cell_type": "code",
   "execution_count": 17,
   "id": "db455765-7e11-40fa-aea4-800ea885e3cd",
   "metadata": {},
   "outputs": [
    {
     "data": {
      "text/plain": [
       "Counter({'NOUN': 95,\n",
       "         'ADP': 39,\n",
       "         'DET': 34,\n",
       "         'PUNCT': 33,\n",
       "         'VERB': 27,\n",
       "         'ADJ': 23,\n",
       "         'NUM': 19,\n",
       "         'PROPN': 16,\n",
       "         'ADV': 15,\n",
       "         'AUX': 13,\n",
       "         'CCONJ': 10,\n",
       "         'SCONJ': 8,\n",
       "         'SPACE': 6,\n",
       "         'PRON': 4,\n",
       "         'PART': 4})"
      ]
     },
     "execution_count": 17,
     "metadata": {},
     "output_type": "execute_result"
    }
   ],
   "source": [
    "from collections import Counter\n",
    "pos_counts = Counter([token.pos_ for token in doc])\n",
    "pos_counts\n",
    "#Counter counts how many times each element appears in the input iterable"
   ]
  },
  {
   "cell_type": "code",
   "execution_count": null,
   "id": "b00a005e-499f-48b3-994a-bc1095b43c22",
   "metadata": {},
   "outputs": [],
   "source": []
  }
 ],
 "metadata": {
  "kernelspec": {
   "display_name": "Python 3 (ipykernel)",
   "language": "python",
   "name": "python3"
  },
  "language_info": {
   "codemirror_mode": {
    "name": "ipython",
    "version": 3
   },
   "file_extension": ".py",
   "mimetype": "text/x-python",
   "name": "python",
   "nbconvert_exporter": "python",
   "pygments_lexer": "ipython3",
   "version": "3.12.6"
  }
 },
 "nbformat": 4,
 "nbformat_minor": 5
}
