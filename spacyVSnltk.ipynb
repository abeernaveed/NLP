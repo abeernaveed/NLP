{
 "cells": [
  {
   "cell_type": "code",
   "execution_count": 3,
   "id": "b297ae50-bacf-4617-bb2e-fdd91869c961",
   "metadata": {},
   "outputs": [],
   "source": [
    "import spacy"
   ]
  },
  {
   "cell_type": "code",
   "execution_count": 5,
   "id": "b8646512-ffaa-4794-847e-327b420f3d9a",
   "metadata": {},
   "outputs": [
    {
     "name": "stdout",
     "output_type": "stream",
     "text": [
      "Dr. Abeer is a software engineer.\n",
      "He is also studying Computer Science.\n"
     ]
    }
   ],
   "source": [
    "# Sentence Tokenization using OOP\n",
    "nlp = spacy.load(\"en_core_web_sm\")\n",
    "doc = nlp(\"Dr. Abeer is a software engineer. He is also studying Computer Science.\")\n",
    "for sentence in doc.sents:\n",
    "    print(sentence)"
   ]
  },
  {
   "cell_type": "code",
   "execution_count": 6,
   "id": "7bbcc562-c987-4a3b-a866-1d013981ff51",
   "metadata": {},
   "outputs": [
    {
     "name": "stdout",
     "output_type": "stream",
     "text": [
      "Dr.\n",
      "Abeer\n",
      "is\n",
      "a\n",
      "software\n",
      "engineer\n",
      ".\n",
      "He\n",
      "is\n",
      "also\n",
      "studying\n",
      "Computer\n",
      "Science\n",
      ".\n"
     ]
    }
   ],
   "source": [
    "# Word Tokenization using OOP\n",
    "for sentence in doc.sents:\n",
    "    for word in sentence:\n",
    "        print(word)"
   ]
  }
 ],
 "metadata": {
  "kernelspec": {
   "display_name": "Python 3 (ipykernel)",
   "language": "python",
   "name": "python3"
  },
  "language_info": {
   "codemirror_mode": {
    "name": "ipython",
    "version": 3
   },
   "file_extension": ".py",
   "mimetype": "text/x-python",
   "name": "python",
   "nbconvert_exporter": "python",
   "pygments_lexer": "ipython3",
   "version": "3.12.6"
  }
 },
 "nbformat": 4,
 "nbformat_minor": 5
}
